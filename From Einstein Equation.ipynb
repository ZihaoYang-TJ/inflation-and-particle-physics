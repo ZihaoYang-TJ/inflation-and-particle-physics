{
 "cells": [
  {
   "cell_type": "markdown",
   "id": "f8c18ff5-dc37-4495-9841-3d49ec2cf53b",
   "metadata": {},
   "source": [
    "# FRW metric\n",
    "$$ds^2=-dt^2+a^2(t)\\left[\\frac{dr^2}{1-Kr^2}+r^2d\\theta^2+r^2\\sin^2\\theta d\\phi^2\\right]$$\n",
    "$$g_{00}=-1\\qquad g_{11}=\\frac{a^2}{1-Kr^2}\\qquad g_{22}=a^2r^2\\qquad g_{33}=a^2r^2\\sin^2\\theta$$\n",
    "$$g^{00}=-1\\qquad g^{11}=\\frac{1-Kr^2}{a^2}\\qquad g^{22}=\\frac{1}{a^2r^2}\\qquad g^{33}=\\frac{1}{a^2r^2\\sin^2\\theta}$$\n",
    "$$g_{00,i}=0\\qquad g_{11,0}=\\frac{2\\dot aa}{1-Kr^2}\\qquad g_{11,1}=\\frac{2a^2Kr}{(1-Kr^2)^2}\\qquad g_{22,0}=2a\\dot a r^2$$\n",
    "$$g_{22,1}=2a^2r\\qquad g_{33,0}=2a\\dot a r^2 \\sin^2\\theta\\qquad g_{33,1}=2a^2r\\sin^2\\theta\\qquad g_{33,2}=2a^2r^2\\sin \\theta \\cos \\theta$$\n",
    "where $i=1,2,3$.\n",
    "# Christoffel symbols\n",
    "$$\\Gamma^{\\alpha}_{\\lambda\\mu}=\\frac{1}{2}g^{\\alpha\\nu}(g_{\\mu\\nu,\\lambda}+g_{\\nu\\lambda,\\mu}-g_{\\lambda\\mu,\\nu})$$\n",
    "$$\\Gamma^{0}_{11}=\\frac{a\\dot a}{1-Kr^2}\\qquad \\Gamma^{0}_{22}=a\\dot a r^2 \\qquad \\Gamma^{0}_{33}=a\\dot a r^2 \\sin^2\\theta\\qquad \\Gamma^{1}_{01}=\\Gamma^{1}_{01}=\\frac{\\dot a}{a}\\qquad \\Gamma^{1}_{11}=\\frac{Kr}{1-Kr^2}$$\n",
    "$$\\Gamma^{1}_{22}=-r(1-Kr^2)\\qquad \\Gamma^{1}_{33}=-r(1-Kr^2)\\sin^2\\theta \\qquad \\Gamma^{2}_{02}=\\Gamma^{2}_{20}=\\frac{\\dot a}{a}\\qquad \\Gamma^{2}_{12}=\\Gamma^{2}_{21}=\\frac{1}{r}$$\n",
    "$$\\Gamma^{2}_{33}=-\\sin\\theta\\cos\\theta\\qquad\\Gamma^{3}_{03}=\\Gamma^{3}_{30}=\\frac{\\dot a}{a}\\qquad \\Gamma^{3}_{13}=\\Gamma^{3}_{31}=\\frac{1}{r}\\qquad\\Gamma^{3}_{23}=\\Gamma^{3}_{32}=\\cot \\theta$$\n",
    "# Ricci tensors and scalar\n",
    "$$R_{\\mu\\nu}=R_{\\mu\\nu\\lambda}^{\\lambda}=\\Gamma^{\\lambda}_{\\mu\\nu,\\lambda}-\\Gamma^{\\lambda}_{\\mu\\lambda,\\nu}-\\Gamma^{\\rho}_{\\mu\\lambda}\\Gamma^{\\lambda}_{\\nu\\rho}+\\Gamma^{\\lambda}_{\\mu\\nu}\\Gamma^{\\rho}_{\\lambda\\rho}$$\n",
    "$$R_{00}=-3\\frac{a\\ddot a-\\dot a^2}{a^2}-3\\left(\\frac{\\dot a}{a}\\right)^2=-3\\frac{\\ddot a }{a}$$\n",
    "$$R_{ii}=\\frac{-g_{ii}}{a^2}(a\\ddot a+2\\dot a^2+2K)$$\n",
    "$$R=g^{\\mu\\nu}R_{\\mu\\nu}=3\\frac{\\ddot a}{a}-3\\left[\\frac{\\ddot a}{a}-2\\left(\\frac{\\dot a}{a}\\right)^2-2\\frac{K^2}{a^2}\\right]=-6\\frac{\\ddot a}{a}-6\\left(\\frac{\\dot a}{a}\\right)^2-6\\frac{K^2}{a^2}$$\n",
    "# Einstein tensors\n",
    "$$G_{\\mu\\nu}=R_{\\mu\\nu}-g_{\\mu\\nu}R$$\n",
    "$$G_{00}=3H^2+3\\frac{K^2}{a^2}$$\n",
    "$$G_{ii}=g_{ii}\\left(2\\frac{\\ddot a}{a}+\\frac{\\dot a^2}{a^2}+\\frac{K^2}{a^2}\\right)$$\n",
    "# Energy momentum tensor and prefect fluid\n",
    "$$T^\\mu_{\\nu}=(\\rho+p) u^\\mu u_\\nu-p\\delta^\\mu_\\nu\\qquad u^\\mu=\\frac{dx^{\\mu}}{d\\tau}$$\n",
    "where $\\tau$ is the proper time of the observers, so that $g_{\\mu\\nu}u^\\mu u^{\\nu}=-1$\n",
    "$$T_{00}=\\rho g_{00}\\qquad T_{ii}=-pg_{ii}$$\n",
    "# Friedman equations\n",
    "Einstein equation (neglect cosmological constant)\n",
    "$$G_{\\mu\\nu}=R_{\\mu\\nu}-\\frac{1}{2}Rg_{\\mu\\nu}=T_{\\mu\\nu}$$\n",
    "note, we set $8\\pi G=1$.\n",
    "$$\\left(\\frac{\\dot a}{a}\\right)^2=H^2=\\frac{1}{3}\\rho-\\frac{K^2}{a^2}$$\n",
    "$$\\frac{\\ddot a}{a}=-\\frac{1}{6}(\\rho+3p)$$\n",
    "so-called Friedman equation."
   ]
  },
  {
   "cell_type": "markdown",
   "id": "9414e8e2-72fe-49b0-8bfb-16c69e7421dd",
   "metadata": {},
   "source": [
    "# Scalar field dynamics\n",
    "$$S=\\int d^4x \\sqrt{-g}\\left[\\frac{M_p}{2}R-\\frac{1}{2}g^{\\mu\\nu}\\partial_\\mu \\phi\\partial_\\nu \\phi-V(\\phi)\\right]$$\n",
    "$$T_{\\mu\\nu}^\\phi=-\\frac{2}{\\sqrt{-g}}\\frac{\\delta S_\\phi}{\\delta g^{\\mu\\nu}}=\\partial_\\mu \\phi\\partial_\\nu \\phi-g_{\\mu\\nu}\\left(\\frac{1}{2}\\partial_\\sigma \\phi\\partial_\\sigma \\phi+V(\\phi)\\right)$$\n",
    "$$T_{00}^\\phi=\\rho_\\phi g_{00}=\\frac{1}{2}\\dot\\phi^2+V(\\phi)\\qquad T_{ii}^\\phi=p_\\phi g_{ii}=\\frac{1}{2}\\dot\\phi^2-V(\\phi)$$\n",
    "# Continuity equation\n",
    "By taking the derivative of the first Friedman equation and combining it with the second equation, it is easy to obtain:\n",
    "$$\\dot\\rho=-3H(\\rho+p)$$\n",
    "\n",
    "We can use $\\nabla^\\mu T_{\\mu\\nu}$ to derive it.\n",
    "$$\\nabla^\\mu T_{0}^\\mu=\\partial_0 T_{0}^\\mu+\\Gamma_{\\alpha\\mu}^\\mu T_{0}^\\alpha-\\Gamma_{0\\mu}^\\alpha T_{\\alpha}^\\mu=\\dot\\rho+3\\frac{\\dot a}{a}\\rho+3\\frac{\\dot a}{a}p$$\n",
    "After inflation ends the scalar field begins to oscillate around the minimum of the potential. During this phase of coherent oscillations the scalar field acts like pressureless matter\n",
    "$$\\langle\\frac{1}{2}\\dot\\phi\\rangle\\approx\\langle V\\rangle$$\n",
    "$$\\dot\\rho=-3H\\rho$$\n",
    "# Equation of motion\n",
    "We can derive EOM from E-L equation\n",
    "$$\\partial_\\mu \\frac{\\partial\\mathcal L}{\\partial(\\partial_\\mu \\phi_a)}-\\frac{\\partial\\mathcal L}{\\partial \\phi_a}=0\\qquad a=1,2....$$\n",
    "consider single field inflation\n",
    "$$S=\\int d^4x \\sqrt{-g}\\left[\\frac{M_p}{2}R-\\frac{1}{2}g^{\\mu\\nu}\\partial_\\mu \\phi\\partial_\\nu \\phi-V(\\phi)\\right]$$\n",
    "Equation of motion is\n",
    "$$\\ddot \\phi+3H\\dot\\phi+V_{,\\phi}=0$$\n",
    "We can derive EOM from continuity equation\n",
    "$$\\dot\\rho=-3H(\\rho+p)$$\n",
    "$$\\frac{d}{dt}(\\frac{1}{2}\\dot\\phi^2+V)+3H(\\frac{1}{2}\\dot\\phi^2+V+\\frac{1}{2}\\dot\\phi^2-V)=0$$\n",
    "$$\\dot\\phi\\ddot\\phi+V_{,\\phi}+3H\\dot\\phi^2=0$$"
   ]
  },
  {
   "cell_type": "code",
   "execution_count": null,
   "id": "21a0697c-fcce-416e-9255-f37699149eae",
   "metadata": {},
   "outputs": [],
   "source": []
  }
 ],
 "metadata": {
  "kernelspec": {
   "display_name": "Python 3 (ipykernel)",
   "language": "python",
   "name": "python3"
  },
  "language_info": {
   "codemirror_mode": {
    "name": "ipython",
    "version": 3
   },
   "file_extension": ".py",
   "mimetype": "text/x-python",
   "name": "python",
   "nbconvert_exporter": "python",
   "pygments_lexer": "ipython3",
   "version": "3.12.2"
  }
 },
 "nbformat": 4,
 "nbformat_minor": 5
}
