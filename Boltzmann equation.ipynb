{
 "cells": [
  {
   "cell_type": "markdown",
   "id": "cb382fdd-cbb8-497a-8c97-c0533dadba8b",
   "metadata": {},
   "source": [
    "\n",
    "As we mention in single field inflation(python), consider a model whose dynamics is governed by the following action:\n",
    "\\begin{equation}\n",
    "    S=\\int d^4x\\sqrt{-g}\\left[\\frac{M_p^2}{16\\pi}R-\\frac{1}{2}\\left(\\partial\\phi\\right)^2-V(\\phi)\\right]\\,,\n",
    "\\end{equation}\n",
    "where $M_p$ is non-reduced plank mass.\n",
    "We work with the spatially flat Friedmann-Robertson-Walker (FRW) universe described by the line-element:\n",
    "\\begin{equation}\n",
    "    ds^2=-dt^2+a^2(t)dx^2\\,,\n",
    "\\end{equation}\n",
    "where $a(t)$ is scale factor and $t$ is the cosmic time.\n",
    "Equation of motion (Klein-Gordon equation) and Friedmann equation are:\n",
    "\\begin{align}\n",
    "    \\ddot \\phi+3H\\dot\\phi+V_{,\\phi}=0\\,,\\\\\n",
    "    H^2=\\frac{8\\pi}{3M_p^2}(\\frac{1}{2}\\dot\\phi^2+V(\\phi))\\,.\n",
    "\\end{align}\n",
    "\n",
    "We select $V=\\frac{1}{2}m^2\\phi^2$ and define:\n",
    "\\begin{equation}\n",
    "    \\dot\\phi=\\sqrt{\\frac{3}{4\\pi}}Hsin\\theta\\qquad m\\phi=\\sqrt{\\frac{3}{4\\pi}}Hcos\\theta\\,.\n",
    "\\end{equation}\n",
    "Then:\n",
    "\\begin{align}\n",
    "    \\dot H=-3H^2sin^2\\theta\\\\\n",
    "    \\dot\\theta=-m-\\frac{3}{2}Hsin(2\\theta)\n",
    "\\end{align}\n",
    "Integral equation of Huabble constant:\n",
    "\\begin{equation}\n",
    "    H(t)=\\frac{2}{3t}\\left(1-\\frac{sin(2mt)}{2mt}\\right)\n",
    "\\end{equation}\n",
    "taking into equation of $\\phi$\n",
    "\\begin{align}\n",
    "    \\phi(t)=\\Psi(t)cos(mt)\\left(1+\\frac{sin(2mt)}{2mt}\\right)\\\\\n",
    "    \\Psi(t)=\\frac{M_p}{\\sqrt{3\\pi}mt}\n",
    "\\end{align}\n",
    "and behavior of scale factor:\n",
    "\\begin{equation}\n",
    "    a\\sim t^{2/3}\n",
    "\\end{equation}   \n",
    "The energy density of the field $\\phi$ decreases in the same way as the non relativistic praticles of mass m:\n",
    "\\begin{equation}\n",
    "    \\rho_\\phi=\\frac{1}{2}\\dot\\phi^2+\\frac{1}{2}m^2\\phi^2\\sim a^{-3}\n",
    "\\end{equation}\n",
    "The inflaton oscillations can be interpreted as a collection of scalar particles, independent from each other, oscillating coherently at the same frequency m. For time intervals larger than the oscillating period, the energy and number densities are related to the amplitude $\\Psi$ in a simple way:\n",
    "\\begin{equation}\n",
    "    \\rho_\\phi=\\frac{1}{2}m^2\\Psi^2\\qquad n_\\phi=\\frac{1}{2}m\\Psi^2\n",
    "\\end{equation}\n",
    "\n"
   ]
  },
  {
   "cell_type": "code",
   "execution_count": 4,
   "id": "ef7f9b78-72ba-4ca3-a93d-3ceae9a7811d",
   "metadata": {},
   "outputs": [
    {
     "data": {
      "image/png": "[encoded data removed]",
      "text/plain": [
       "<Figure size 640x480 with 1 Axes>"
      ]
     },
     "metadata": {},
     "output_type": "display_data"
    }
   ],
   "source": [
    "\n",
    "import numpy as np\n",
    "from scipy.integrate import odeint\n",
    "import matplotlib.pyplot as plt\n",
    "\n",
    "#rho~a^-3~(e^N)^-3~e^(-3N)`t^(-2)\n",
    "N = np.linspace(0, 10, 10000)  #The starting point of N is relative\n",
    "rho=np.exp(-3*N)\n",
    "plt.plot(N, rho, 'r')\n",
    "plt.xlabel(r'$N$')\n",
    "plt.ylabel(r'$\\rho_\\phi $')\n",
    "plt.show()"
   ]
  },
  {
   "cell_type": "markdown",
   "id": "b30045f5-983d-446c-80a4-6cd1dde97ecb",
   "metadata": {},
   "source": [
    "\n",
    "Consider:\n",
    "\\begin{equation}\n",
    "    \\mathcal{L}=\\frac{1}{2}\\phi_i\\phi^i-V(\\phi)+\\frac{1}{2}\\chi_i\\chi^i-\\frac{1}{2}m_\\chi \\chi^2+\\bar{\\Psi}(i\\gamma^i \\partial_i-m_\\Psi)\\Psi-\\frac{1}{2}g^2\\phi^2\\chi^2-h\\bar\\Psi\\Psi\\phi\n",
    "\\end{equation}\n",
    "The terms are as follows: inflation field, scalar field $\\chi$, fermi field $\\Psi$  abd interaction terms of $\\psi$, $\\chi$ and $\\Psi$.\n",
    "consider symmetry breaking:? $\\phi=\\phi-\\sigma$\n",
    "\\begin{equation}\n",
    "    \\mathcal{L}_{int}=\\frac{1}{2}g^2(\\phi-\\sigma)^2\\chi^2-h\\bar\\Psi\\Psi\\phi\\sim-g^2\\phi\\sigma\\Psi-h\\bar\\Psi\\Psi\\phi\n",
    "\\end{equation}\n",
    "decay rate is:\n",
    "\\begin{equation}\n",
    "    \\Gamma(\\phi\\rightarrow\\chi\\chi)=\\frac{g^4\\sigma^2}{8\\pi m}\\qquad\\Gamma(\\phi\\rightarrow\\bar\\Psi\\Psi)=\\frac{h^2m}{8\\pi}\n",
    "\\end{equation}\n",
    "K-G equation:\n",
    "\\begin{align}\n",
    "    \\ddot \\phi+3H(t)\\dot\\phi+\\left(m^2+\\Pi(\\omega)\\right)\\phi=0\n",
    "\\end{align}\n",
    "where $\\Pi(\\omega)$ is the inflation polarisation operator. and $Im\\Pi(\\omega)=m\\Gamma_\\phi$ (optical theorem)\n",
    "solution of K-G eq:\n",
    "\\begin{equation}\n",
    "    \\phi(t)\\sim \\Phi(t)sin(mt)\n",
    "\\end{equation}\n",
    "\\begin{equation}\n",
    "    \\Phi(t)=\\Phi_0 exp\\left[-\\frac{1}{2}\\left(3H+\\frac{Im\\Pi(m)}{m}\\right)t\\right]=\\Phi_0 exp\\left[-\\frac{1}{2}(3H+\\Gamma)t\\right]\n",
    "\\end{equation}\n",
    "As we mentioned $\\rho_\\phi\\sim \\Psi^2$\n",
    "\\begin{align}\n",
    "    \\frac{d\\rho_\\phi}{dt}=(-3H-\\Gamma)\\rho_\\phi\\\\\n",
    "    \\frac{dn_\\phi}{dt}=(-3H-\\Gamma)n_\\phi\n",
    "\\end{align}\n",
    "consider expanding universe\n",
    "\\begin{align}\n",
    "    \\frac{d}{dt}(a^3 n_\\phi)=a^3\\frac{dn_\\phi}{dt}+3a^2\\dot a n_\\phi=(-3H-\\Gamma)a^3 n_\\phi+3a^3H n_\\phi=-\\Gamma a^3 n_\\phi\n",
    "\\end{align}\n",
    "we obtain Boltzmann equation. The comving number density of $\\phi$ particles exponentially decreases with the decay rate $\\Gamma$\n",
    "\\begin{equation}\n",
    "a^3 n_\\phi=C_0 e^{-\\Gamma t}\n",
    "\\end{equation}\n"
   ]
  },
  {
   "cell_type": "code",
   "execution_count": 7,
   "id": "6fc6b45a-6f5c-427f-a3fc-da2359b5fca4",
   "metadata": {
    "scrolled": true
   },
   "outputs": [
    {
     "data": {
      "image/png": "[encoded data removed]",
      "text/plain": [
       "<Figure size 640x480 with 1 Axes>"
      ]
     },
     "metadata": {},
     "output_type": "display_data"
    }
   ],
   "source": [
    "import numpy as np\n",
    "from scipy.integrate import odeint\n",
    "import matplotlib.pyplot as plt\n",
    "Gamma=0.8\n",
    "C0=1\n",
    "t=np.linspace(0, 100, 10000)\n",
    "comving_nd=C0*np.exp(-Gamma*t)\n",
    "plt.plot(N, rho, 'r')\n",
    "plt.xlabel(r'$t$')\n",
    "plt.ylabel(r'$a^3 n_\\phi $')\n",
    "plt.show()"
   ]
  },
  {
   "cell_type": "markdown",
   "id": "d9304ab0-888f-4830-9f2b-3404052a6dbe",
   "metadata": {},
   "source": [
    "AS we mentioned in single inflation.inbpy, we got:\n",
    "\\begin{eqaution}\n",
    "H\\sim \\frac{2}{3t} \\qquad \\rho_\\phi\\sim a^-3\n",
    "\\end{equation}\n",
    "The inflaton energy density is transferred to the relativistic decay products, the energy density of which decreasing much faster than the energy of the oscillating field $\\phi$.\n",
    "\n",
    "The reheating process eventually ends when $H < \\Gamma_\\phi$. The reheating time is defined as the time at which the transition between these two regimes occurs\n",
    "\\begin{equation}\n",
    "t_{reh}\\sim\\frac{2}{3H}\\sim\\frac{2}{3\\Gamma_\\phi}\n",
    "\\end{equation}\n",
    "\n",
    "The inflaton energy density:\n",
    "\\begin{equation}\n",
    "\\rho=\\frac{1}{2}m^2\\Psi^2=\\frac{1}{2}m^2 \\frac{M_p^2}{3\\pi m^2 t_{reh}^2}=\\frac{3M_p^2\\Gamma_\\phi^2}{8\\pi }\n",
    "\\end{equation}\n",
    "and one of a thermal bath:\n",
    "\\begin{equation}\n",
    "\\rho_{rad}=\\frac{\\pi^2}{30}g_*T^4_R\n",
    "\\end{equation}\n",
    "where $g_*$ is degree of freedom. Reheating temprature:\n",
    "\\begin{equation}\n",
    "T_R=\\left[\\frac{3M_p^2 \\Gamma_\\phi^2}{8\\pi}\\cdot\\frac{30}{\\pi^2 g_*}\\right]^{1/4}\\approx 0.2(200/g_*)^{1/4}\\sqrt{\\Gamma_\\phi M_p}\n",
    "\\end{equation}\n",
    "\n",
    "Look, it is only depend on particle theory parameters and not on teh initial value of $\\phi$. Let's show some examples:\n",
    "\n",
    "1. $h\\sim 10^{-2}$,$m\\sim 10^{-6}M_p\\sim 10^{13}GeV$, and $g_*=100$\n",
    "\\begin{equation}\n",
    "\\Gamma_\\phi=\\frac{h^2 m}{8\\pi}\\sim10^7 GeV\n",
    "\\end{equation}\n",
    "\\begin{equation}\n",
    "T_R= 0.2(200/100)^{1/4}\\sqrt{10^8 \\cdot 10^{19} GeV^2}\\sim 10^{12}GeV\n",
    "\\end{equation}\n",
    "\n"
   ]
  },
  {
   "cell_type": "code",
   "execution_count": 21,
   "id": "603bf935-dc9e-43aa-8f31-bea0beb12748",
   "metadata": {},
   "outputs": [
    {
     "name": "stdout",
     "output_type": "stream",
     "text": [
      "Gamma=3.98e+07GeV\n",
      "T_R=4.74e+12GeV\n"
     ]
    }
   ],
   "source": [
    "import numpy as np\n",
    "mp=10**19\n",
    "h=10**-2#or g^2\n",
    "m=10**-6*mp\n",
    "g=100\n",
    "Gamma=h**2*m/(8*np.pi)\n",
    "print('Gamma='+'%.2e' %Gamma+'GeV')\n",
    "T_R=0.2*(200/g)**0.25*(Gamma*mp)**0.5\n",
    "print('T_R='+'%.2e' %T_R+'GeV')"
   ]
  },
  {
   "cell_type": "markdown",
   "id": "0ad52056-2144-4713-9a90-0cffd19560e2",
   "metadata": {},
   "source": [
    "Baryogenesis, gravitinos, leptogenesis seem to have imposed restrictions on this temperature."
   ]
  }
 ],
 "metadata": {
  "kernelspec": {
   "display_name": "Python 3 (ipykernel)",
   "language": "python",
   "name": "python3"
  },
  "language_info": {
   "codemirror_mode": {
    "name": "ipython",
    "version": 3
   },
   "file_extension": ".py",
   "mimetype": "text/x-python",
   "name": "python",
   "nbconvert_exporter": "python",
   "pygments_lexer": "ipython3",
   "version": "3.12.2"
  }
 },
 "nbformat": 4,
 "nbformat_minor": 5
}
